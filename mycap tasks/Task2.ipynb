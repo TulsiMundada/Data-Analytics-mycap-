set1 = {1,2,3,4,5,6}
set2 = {5,6,7,8,9,10}
set1.union(set2)
{1, 2, 3, 4, 5, 6, 7, 8, 9, 10}
set1.intersection(set2)
{5, 6}
set1.difference(set2)
{1, 2, 3, 4}
set2.difference(set1)
{7, 8, 9, 10}
set1.symmetric_difference(set2)
{1, 2, 3, 4, 7, 8, 9, 10}
